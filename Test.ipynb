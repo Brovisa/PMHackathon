{
 "cells": [
  {
   "cell_type": "code",
   "execution_count": 27,
   "id": "1dbcf1ce-ae92-4328-a071-f7e9d396586a",
   "metadata": {},
   "outputs": [],
   "source": [
    "from pycelonis import get_celonis\n"
   ]
  },
  {
   "cell_type": "code",
   "execution_count": 28,
   "id": "164172a4-f88c-4e2d-9865-b4f0e78b9374",
   "metadata": {},
   "outputs": [
    {
     "name": "stderr",
     "output_type": "stream",
     "text": [
      "[2022-04-29 21:41:43] WARNING: Argument 'key_type' not set, defaults to 'APP_KEY'. Must be one of [USER_KEY, APP_KEY].\n"
     ]
    },
    {
     "name": "stdout",
     "output_type": "stream",
     "text": [
      "[2022-04-29 21:41:43] INFO: Initial connect successful! You are using an Application Key. PyCelonis Version: 1.7.0\n",
      "[2022-04-29 21:41:44] INFO: Your key has following permissions:\n",
      "[\n",
      "    {\n",
      "        \"permissions\": [],\n",
      "        \"serviceName\": \"package-manager\"\n",
      "    },\n",
      "    {\n",
      "        \"permissions\": [],\n",
      "        \"serviceName\": \"workflows\"\n",
      "    },\n",
      "    {\n",
      "        \"permissions\": [],\n",
      "        \"serviceName\": \"task-mining\"\n",
      "    },\n",
      "    {\n",
      "        \"permissions\": [],\n",
      "        \"serviceName\": \"team\"\n",
      "    },\n",
      "    {\n",
      "        \"permissions\": [],\n",
      "        \"serviceName\": \"action-engine\"\n",
      "    },\n",
      "    {\n",
      "        \"permissions\": [],\n",
      "        \"serviceName\": \"process-repository\"\n",
      "    },\n",
      "    {\n",
      "        \"permissions\": [],\n",
      "        \"serviceName\": \"process-analytics\"\n",
      "    },\n",
      "    {\n",
      "        \"permissions\": [],\n",
      "        \"serviceName\": \"transformation-center\"\n",
      "    },\n",
      "    {\n",
      "        \"permissions\": [],\n",
      "        \"serviceName\": \"storage-manager\"\n",
      "    },\n",
      "    {\n",
      "        \"permissions\": [\n",
      "            \"$ACCESS_CHILD\"\n",
      "        ],\n",
      "        \"serviceName\": \"event-collection\"\n",
      "    },\n",
      "    {\n",
      "        \"permissions\": [],\n",
      "        \"serviceName\": \"ml-workbench\"\n",
      "    },\n",
      "    {\n",
      "        \"permissions\": [],\n",
      "        \"serviceName\": \"user-provisioning\"\n",
      "    }\n",
      "]\n"
     ]
    }
   ],
   "source": [
    "celonis = get_celonis(\n",
    "          url= \"https://academic-umut-dural-rwth-aachen-de.eu-2.celonis.cloud/\",\n",
    "          api_token= \"MjIyYjViMDEtMDE4Yi00YTM0LWI0OGYtZjRlNjgyNDBkZmYyOnQySkRBV0hyUmFjUllWUldBeXZHaFFzZHRPN1psL21SVWFScXh0UjdUUkRE\"\n",
    ")"
   ]
  },
  {
   "cell_type": "code",
   "execution_count": null,
   "id": "7b06e213-e6f8-450e-92a2-5eb8131e80c6",
   "metadata": {},
   "outputs": [],
   "source": [
    "celonis"
   ]
  },
  {
   "cell_type": "code",
   "execution_count": 29,
   "id": "fe1a4da4-fd2d-4e54-a29b-0ff76f40e1e0",
   "metadata": {},
   "outputs": [
    {
     "name": "stdout",
     "output_type": "stream",
     "text": [
      "[\n",
      "<Datamodel, id 3cd8770b-7c1d-487e-b358-d9985ac83109, name SAP P2P>,\n",
      "<Datamodel, id 955669d9-c78c-49eb-9982-85af2a7d1e24, name MobIS>,\n",
      "<Datamodel, id 9dd4b299-80b9-497f-b760-7387035e8649, name BPI 2017>,\n",
      "]\n"
     ]
    }
   ],
   "source": [
    "print(celonis.datamodels)"
   ]
  },
  {
   "cell_type": "markdown",
   "id": "f5f4d3ca-fb2e-4461-9d46-1dfbf6f6111c",
   "metadata": {},
   "source": [
    "Selecting the MobIs Dataset\n"
   ]
  },
  {
   "cell_type": "code",
   "execution_count": 30,
   "id": "05b40a1c-2045-4af9-8bb5-87e21b50f0b3",
   "metadata": {},
   "outputs": [
    {
     "name": "stdout",
     "output_type": "stream",
     "text": [
      "<Datamodel, id 955669d9-c78c-49eb-9982-85af2a7d1e24, name MobIS>\n"
     ]
    }
   ],
   "source": [
    "mobis = celonis.datamodels.find(\"955669d9-c78c-49eb-9982-85af2a7d1e24\")\n",
    "print(mobis)"
   ]
  },
  {
   "cell_type": "code",
   "execution_count": 31,
   "id": "a3a37e8f",
   "metadata": {},
   "outputs": [
    {
     "name": "stdout",
     "output_type": "stream",
     "text": [
      "[{'name': 'ACTIVITY', 'length': 320, 'type': 'STRING'}, {'name': 'CASE', 'length': 19, 'type': 'INTEGER'}, {'name': 'START', 'length': 26, 'type': 'DATE'}, {'name': 'END', 'length': 26, 'type': 'DATE'}, {'name': 'TYPE', 'length': 320, 'type': 'STRING'}, {'name': 'USER', 'length': 320, 'type': 'STRING'}, {'name': 'TRAVEL_START', 'length': 26, 'type': 'DATE'}, {'name': 'TRAVEL_END', 'length': 26, 'type': 'DATE'}, {'name': 'COST', 'length': 15, 'type': 'FLOAT'}, {'name': '_CELONIS_CHANGE_DATE', 'length': 23, 'type': 'DATE'}]\n"
     ]
    }
   ],
   "source": [
    "print(mobis.tables.find('mobis_challenge_log_2019_csv').columns)\n",
    "\n"
   ]
  },
  {
   "cell_type": "markdown",
   "id": "db9137b2-dd65-42ed-b8da-172d348a0eaf",
   "metadata": {},
   "source": [
    "Importing PQL"
   ]
  },
  {
   "cell_type": "code",
   "execution_count": 32,
   "id": "e5458811-c5f8-445b-bc39-d635716650f7",
   "metadata": {},
   "outputs": [],
   "source": [
    "from pycelonis import pql"
   ]
  },
  {
   "cell_type": "code",
   "execution_count": 64,
   "id": "e0968d0f-35f9-483f-96c0-4977a185b9f7",
   "metadata": {},
   "outputs": [],
   "source": [
    "q = pql.PQL()\n",
    "q += pql.PQLColumn('\"mobis_challenge_log_2019_csv\".\"CASE\"',\"Cases\")\n",
    "q += pql.PQLColumn('\"mobis_challenge_log_2019_csv\".\"ACTIVITY\"',\"Activities\")\n",
    "q += pql.PQLColumn(' CLUSTER_VARIANTS(VARIANT(\"mobis_challenge_log_2019_csv\".\"ACTIVITY\") , 12 , 2 )',\"Clusters\")\n",
    "\n"
   ]
  },
  {
   "cell_type": "code",
   "execution_count": 65,
   "id": "b29450cf-5443-4a78-81ff-418f1edd5de3",
   "metadata": {},
   "outputs": [
    {
     "name": "stdout",
     "output_type": "stream",
     "text": [
      "[2022-04-30 01:05:36] INFO: PQL Export started...\n",
      "[2022-04-30 01:05:36] INFO: PQL Export status: DONE\n"
     ]
    },
    {
     "data": {
      "text/html": [
       "<div>\n",
       "<style scoped>\n",
       "    .dataframe tbody tr th:only-of-type {\n",
       "        vertical-align: middle;\n",
       "    }\n",
       "\n",
       "    .dataframe tbody tr th {\n",
       "        vertical-align: top;\n",
       "    }\n",
       "\n",
       "    .dataframe thead th {\n",
       "        text-align: right;\n",
       "    }\n",
       "</style>\n",
       "<table border=\"1\" class=\"dataframe\">\n",
       "  <thead>\n",
       "    <tr style=\"text-align: right;\">\n",
       "      <th></th>\n",
       "      <th>Cases</th>\n",
       "      <th>Activities</th>\n",
       "      <th>User</th>\n",
       "      <th>Clusters</th>\n",
       "    </tr>\n",
       "  </thead>\n",
       "  <tbody>\n",
       "    <tr>\n",
       "      <th>0</th>\n",
       "      <td>1</td>\n",
       "      <td>pay expenses</td>\n",
       "      <td>FI12</td>\n",
       "      <td>86</td>\n",
       "    </tr>\n",
       "    <tr>\n",
       "      <th>1</th>\n",
       "      <td>5</td>\n",
       "      <td>pay expenses</td>\n",
       "      <td>JH2172</td>\n",
       "      <td>86</td>\n",
       "    </tr>\n",
       "    <tr>\n",
       "      <th>2</th>\n",
       "      <td>6</td>\n",
       "      <td>calculate payments</td>\n",
       "      <td>WE5108</td>\n",
       "      <td>0</td>\n",
       "    </tr>\n",
       "    <tr>\n",
       "      <th>3</th>\n",
       "      <td>6</td>\n",
       "      <td>pay expenses</td>\n",
       "      <td>WE5108</td>\n",
       "      <td>0</td>\n",
       "    </tr>\n",
       "    <tr>\n",
       "      <th>4</th>\n",
       "      <td>7</td>\n",
       "      <td>send original documents to archive</td>\n",
       "      <td>UL2786</td>\n",
       "      <td>88</td>\n",
       "    </tr>\n",
       "  </tbody>\n",
       "</table>\n",
       "</div>"
      ],
      "text/plain": [
       "   Cases                          Activities    User  Clusters\n",
       "0      1                        pay expenses    FI12        86\n",
       "1      5                        pay expenses  JH2172        86\n",
       "2      6                  calculate payments  WE5108         0\n",
       "3      6                        pay expenses  WE5108         0\n",
       "4      7  send original documents to archive  UL2786        88"
      ]
     },
     "execution_count": 65,
     "metadata": {},
     "output_type": "execute_result"
    }
   ],
   "source": [
    "table_w_cv = mobis.get_data_frame(q)\n",
    "\n",
    "table_w_cv.head()"
   ]
  }
 ],
 "metadata": {
  "kernelspec": {
   "display_name": "Python 3 (ipykernel)",
   "language": "python",
   "name": "python3"
  },
  "language_info": {
   "codemirror_mode": {
    "name": "ipython",
    "version": 3
   },
   "file_extension": ".py",
   "mimetype": "text/x-python",
   "name": "python",
   "nbconvert_exporter": "python",
   "pygments_lexer": "ipython3",
   "version": "3.8.10"
  }
 },
 "nbformat": 4,
 "nbformat_minor": 5
}
