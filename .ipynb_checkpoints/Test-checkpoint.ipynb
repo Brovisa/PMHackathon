{
 "cells": [
  {
   "cell_type": "code",
   "execution_count": 1,
   "id": "1dbcf1ce-ae92-4328-a071-f7e9d396586a",
   "metadata": {},
   "outputs": [],
   "source": [
    "from pycelonis import get_celonis\n"
   ]
  },
  {
   "cell_type": "code",
   "execution_count": 7,
   "id": "164172a4-f88c-4e2d-9865-b4f0e78b9374",
   "metadata": {},
   "outputs": [
    {
     "name": "stderr",
     "output_type": "stream",
     "text": [
      "[2022-04-29 18:48:04] WARNING: Argument 'key_type' not set, defaults to 'APP_KEY'. Must be one of [USER_KEY, APP_KEY].\n"
     ]
    },
    {
     "name": "stdout",
     "output_type": "stream",
     "text": [
      "[2022-04-29 18:48:04] INFO: Initial connect successful! You are using an Application Key. PyCelonis Version: 1.7.0\n",
      "[2022-04-29 18:48:04] INFO: Your key has following permissions:\n",
      "[\n",
      "    {\n",
      "        \"permissions\": [],\n",
      "        \"serviceName\": \"package-manager\"\n",
      "    },\n",
      "    {\n",
      "        \"permissions\": [],\n",
      "        \"serviceName\": \"workflows\"\n",
      "    },\n",
      "    {\n",
      "        \"permissions\": [],\n",
      "        \"serviceName\": \"task-mining\"\n",
      "    },\n",
      "    {\n",
      "        \"permissions\": [],\n",
      "        \"serviceName\": \"team\"\n",
      "    },\n",
      "    {\n",
      "        \"permissions\": [],\n",
      "        \"serviceName\": \"action-engine\"\n",
      "    },\n",
      "    {\n",
      "        \"permissions\": [],\n",
      "        \"serviceName\": \"process-repository\"\n",
      "    },\n",
      "    {\n",
      "        \"permissions\": [],\n",
      "        \"serviceName\": \"process-analytics\"\n",
      "    },\n",
      "    {\n",
      "        \"permissions\": [],\n",
      "        \"serviceName\": \"transformation-center\"\n",
      "    },\n",
      "    {\n",
      "        \"permissions\": [],\n",
      "        \"serviceName\": \"storage-manager\"\n",
      "    },\n",
      "    {\n",
      "        \"permissions\": [],\n",
      "        \"serviceName\": \"event-collection\"\n",
      "    },\n",
      "    {\n",
      "        \"permissions\": [],\n",
      "        \"serviceName\": \"ml-workbench\"\n",
      "    },\n",
      "    {\n",
      "        \"permissions\": [],\n",
      "        \"serviceName\": \"user-provisioning\"\n",
      "    }\n",
      "]\n"
     ]
    }
   ],
   "source": [
    "celonis = get_celonis(\n",
    "          url= \"https://academic-umut-dural-rwth-aachen-de.eu-2.celonis.cloud/\",\n",
    "          api_token= \"MjIyYjViMDEtMDE4Yi00YTM0LWI0OGYtZjRlNjgyNDBkZmYyOnQySkRBV0hyUmFjUllWUldBeXZHaFFzZHRPN1psL21SVWFScXh0UjdUUkRE\"\n",
    ")"
   ]
  },
  {
   "cell_type": "code",
   "execution_count": null,
   "id": "7b06e213-e6f8-450e-92a2-5eb8131e80c6",
   "metadata": {},
   "outputs": [],
   "source": [
    "celonis"
   ]
  },
  {
   "cell_type": "code",
   "execution_count": 12,
   "id": "fe1a4da4-fd2d-4e54-a29b-0ff76f40e1e0",
   "metadata": {},
   "outputs": [
    {
     "name": "stdout",
     "output_type": "stream",
     "text": [
      "[\n",
      "<Datamodel, id 3cd8770b-7c1d-487e-b358-d9985ac83109, name SAP P2P>,\n",
      "<Datamodel, id 955669d9-c78c-49eb-9982-85af2a7d1e24, name MobIS>,\n",
      "<Datamodel, id 9dd4b299-80b9-497f-b760-7387035e8649, name BPI 2017>,\n",
      "]\n"
     ]
    }
   ],
   "source": [
    "print(celonis.datamodels)"
   ]
  },
  {
   "cell_type": "markdown",
   "id": "f5f4d3ca-fb2e-4461-9d46-1dfbf6f6111c",
   "metadata": {},
   "source": [
    "Selecting the MobIs Dataset\n"
   ]
  },
  {
   "cell_type": "code",
   "execution_count": 13,
   "id": "05b40a1c-2045-4af9-8bb5-87e21b50f0b3",
   "metadata": {},
   "outputs": [
    {
     "name": "stdout",
     "output_type": "stream",
     "text": [
      "<Datamodel, id 955669d9-c78c-49eb-9982-85af2a7d1e24, name MobIS>\n"
     ]
    }
   ],
   "source": [
    "mobis = celonis.datamodels.find(\"955669d9-c78c-49eb-9982-85af2a7d1e24\")\n",
    "print(mobis)"
   ]
  },
  {
   "cell_type": "markdown",
   "id": "db9137b2-dd65-42ed-b8da-172d348a0eaf",
   "metadata": {},
   "source": [
    "Importing PQL"
   ]
  },
  {
   "cell_type": "code",
   "execution_count": 14,
   "id": "e5458811-c5f8-445b-bc39-d635716650f7",
   "metadata": {},
   "outputs": [],
   "source": [
    "from pycelonis import pql"
   ]
  },
  {
   "cell_type": "code",
   "execution_count": 15,
   "id": "e0968d0f-35f9-483f-96c0-4977a185b9f7",
   "metadata": {},
   "outputs": [],
   "source": [
    "q = pql.PQL()\n",
    "q += pql.PQLColumn(query"
   ]
  },
  {
   "cell_type": "code",
   "execution_count": null,
   "id": "b29450cf-5443-4a78-81ff-418f1edd5de3",
   "metadata": {},
   "outputs": [],
   "source": []
  }
 ],
 "metadata": {
  "kernelspec": {
   "display_name": "Python 3 (ipykernel)",
   "language": "python",
   "name": "python3"
  },
  "language_info": {
   "codemirror_mode": {
    "name": "ipython",
    "version": 3
   },
   "file_extension": ".py",
   "mimetype": "text/x-python",
   "name": "python",
   "nbconvert_exporter": "python",
   "pygments_lexer": "ipython3",
   "version": "3.8.10"
  }
 },
 "nbformat": 4,
 "nbformat_minor": 5
}
